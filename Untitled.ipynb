{
 "cells": [
  {
   "cell_type": "code",
   "execution_count": 1,
   "id": "d5d5ce56",
   "metadata": {},
   "outputs": [],
   "source": [
    "import pandas as pd"
   ]
  },
  {
   "cell_type": "code",
   "execution_count": 2,
   "id": "b73cc9df",
   "metadata": {},
   "outputs": [],
   "source": [
    "dtype = {\n",
    "    \"Report Number\": \"string\",\n",
    "    \"Agency Name\": \"string\",\n",
    "    \"ACRS Report Type\": \"string\",\n",
    "    \"Crash Date/Time\": \"string\",\n",
    "    \"Route Type\": \"string\",\n",
    "    \"Road Name\": \"string\",\n",
    "    \"Cross-Street Type\": \"string\",\n",
    "    \"Cross-Street Name\": \"string\"\n",
    "}"
   ]
  },
  {
   "cell_type": "code",
   "execution_count": 3,
   "id": "97227403",
   "metadata": {},
   "outputs": [],
   "source": [
    "df = pd.read_csv(\"Crash_Reporting_-_Drivers_Data.csv\", low_memory = False)\n"
   ]
  },
  {
   "cell_type": "code",
   "execution_count": 4,
   "id": "0fe5789e",
   "metadata": {},
   "outputs": [],
   "source": [
    "df.drop(['Route Type', 'Road Name', \"Cross-Street Type\", \"Cross-Street Name\", \"Off-Road Description\", \"Municipality\", \"Related Non-Motorist\", \"Collision Type\", \"Weather\", \"Surface Condition\", \"Light\", \"Traffic Control\", \"Driver Substance Abuse\", \"Person ID\", \"Driver At Fault\", \"Injury Severity\", \"Circumstance\", \"Driver Distracted By\", \"Drivers License State\", \"Vehicle Damage Extent\", \"Vehicle First Impact Location\", \"Vehicle Second Impact Location\", \"Vehicle Body Type\", \"Vehicle Movement\", \"Vehicle Continuing Dir\", \"Vehicle Going Dir\", \"Equipment Problems\", \"Non-Motorist Substance Abuse\"], axis=1, inplace = True)"
   ]
  },
  {
   "cell_type": "code",
   "execution_count": 5,
   "id": "b6b4f17b",
   "metadata": {},
   "outputs": [],
   "source": [
    "df.dropna(inplace = True)\n",
    "df.reset_index(inplace = True)"
   ]
  },
  {
   "cell_type": "code",
   "execution_count": 6,
   "id": "a1c58b9b",
   "metadata": {},
   "outputs": [
    {
     "name": "stdout",
     "output_type": "stream",
     "text": [
      "<class 'pandas.core.frame.DataFrame'>\n",
      "RangeIndex: 164859 entries, 0 to 164858\n",
      "Data columns (total 16 columns):\n",
      " #   Column              Non-Null Count   Dtype  \n",
      "---  ------              --------------   -----  \n",
      " 0   index               164859 non-null  int64  \n",
      " 1   Report Number       164859 non-null  object \n",
      " 2   Local Case Number   164859 non-null  object \n",
      " 3   Agency Name         164859 non-null  object \n",
      " 4   ACRS Report Type    164859 non-null  object \n",
      " 5   Crash Date/Time     164859 non-null  object \n",
      " 6   Vehicle ID          164859 non-null  object \n",
      " 7   Speed Limit         164859 non-null  int64  \n",
      " 8   Driverless Vehicle  164859 non-null  object \n",
      " 9   Parked Vehicle      164859 non-null  object \n",
      " 10  Vehicle Year        164859 non-null  int64  \n",
      " 11  Vehicle Make        164859 non-null  object \n",
      " 12  Vehicle Model       164859 non-null  object \n",
      " 13  Latitude            164859 non-null  float64\n",
      " 14  Longitude           164859 non-null  float64\n",
      " 15  Location            164859 non-null  object \n",
      "dtypes: float64(2), int64(3), object(11)\n",
      "memory usage: 20.1+ MB\n"
     ]
    }
   ],
   "source": [
    "df.info()"
   ]
  },
  {
   "cell_type": "code",
   "execution_count": 7,
   "id": "a714f228",
   "metadata": {},
   "outputs": [
    {
     "data": {
      "text/plain": [
       "'4S'"
      ]
     },
     "execution_count": 7,
     "metadata": {},
     "output_type": "execute_result"
    }
   ],
   "source": [
    "df['Vehicle Model'].mode()[0]"
   ]
  },
  {
   "cell_type": "code",
   "execution_count": 8,
   "id": "85cc7ccd",
   "metadata": {},
   "outputs": [
    {
     "name": "stdout",
     "output_type": "stream",
     "text": [
      "TOYOTA CAMRY\n"
     ]
    }
   ],
   "source": [
    "for i in range(len(df)):\n",
    "    df.loc[i, \"Vehicle Make/Model\"] = df.loc[i, \"Vehicle Make\"]+\" \"+df.loc[i, \"Vehicle Model\"]\n",
    "\n",
    "print(df['Vehicle Make/Model'].mode()[0])"
   ]
  },
  {
   "cell_type": "code",
   "execution_count": 10,
   "id": "463d41e7",
   "metadata": {},
   "outputs": [],
   "source": [
    "df2 = pd.read_csv(\"Student Stress Factors.csv\")"
   ]
  },
  {
   "cell_type": "code",
   "execution_count": 11,
   "id": "854d1937",
   "metadata": {},
   "outputs": [
    {
     "data": {
      "text/html": [
       "<div>\n",
       "<style scoped>\n",
       "    .dataframe tbody tr th:only-of-type {\n",
       "        vertical-align: middle;\n",
       "    }\n",
       "\n",
       "    .dataframe tbody tr th {\n",
       "        vertical-align: top;\n",
       "    }\n",
       "\n",
       "    .dataframe thead th {\n",
       "        text-align: right;\n",
       "    }\n",
       "</style>\n",
       "<table border=\"1\" class=\"dataframe\">\n",
       "  <thead>\n",
       "    <tr style=\"text-align: right;\">\n",
       "      <th></th>\n",
       "      <th>Timestamp</th>\n",
       "      <th>Kindly Rate your Sleep Quality 😴</th>\n",
       "      <th>How many times a week do you suffer headaches 🤕?</th>\n",
       "      <th>How would you rate you academic performance 👩‍🎓?</th>\n",
       "      <th>how would you rate your study load?</th>\n",
       "      <th>How many times a week you practice extracurricular activities 🎾?</th>\n",
       "      <th>How would you rate your stress levels?</th>\n",
       "    </tr>\n",
       "  </thead>\n",
       "  <tbody>\n",
       "    <tr>\n",
       "      <th>0</th>\n",
       "      <td>27/10/2023 21:54:15</td>\n",
       "      <td>3</td>\n",
       "      <td>1</td>\n",
       "      <td>3</td>\n",
       "      <td>4</td>\n",
       "      <td>2</td>\n",
       "      <td>3</td>\n",
       "    </tr>\n",
       "    <tr>\n",
       "      <th>1</th>\n",
       "      <td>28/10/2023 12:24:40</td>\n",
       "      <td>4</td>\n",
       "      <td>1</td>\n",
       "      <td>2</td>\n",
       "      <td>3</td>\n",
       "      <td>3</td>\n",
       "      <td>2</td>\n",
       "    </tr>\n",
       "    <tr>\n",
       "      <th>2</th>\n",
       "      <td>28/10/2023 12:24:51</td>\n",
       "      <td>2</td>\n",
       "      <td>1</td>\n",
       "      <td>2</td>\n",
       "      <td>1</td>\n",
       "      <td>4</td>\n",
       "      <td>4</td>\n",
       "    </tr>\n",
       "    <tr>\n",
       "      <th>3</th>\n",
       "      <td>28/10/2023 12:26:11</td>\n",
       "      <td>3</td>\n",
       "      <td>2</td>\n",
       "      <td>3</td>\n",
       "      <td>2</td>\n",
       "      <td>3</td>\n",
       "      <td>3</td>\n",
       "    </tr>\n",
       "    <tr>\n",
       "      <th>4</th>\n",
       "      <td>28/10/2023 12:26:45</td>\n",
       "      <td>2</td>\n",
       "      <td>3</td>\n",
       "      <td>1</td>\n",
       "      <td>5</td>\n",
       "      <td>5</td>\n",
       "      <td>3</td>\n",
       "    </tr>\n",
       "  </tbody>\n",
       "</table>\n",
       "</div>"
      ],
      "text/plain": [
       "             Timestamp  Kindly Rate your Sleep Quality 😴  \\\n",
       "0  27/10/2023 21:54:15                                 3   \n",
       "1  28/10/2023 12:24:40                                 4   \n",
       "2  28/10/2023 12:24:51                                 2   \n",
       "3  28/10/2023 12:26:11                                 3   \n",
       "4  28/10/2023 12:26:45                                 2   \n",
       "\n",
       "   How many times a week do you suffer headaches 🤕?  \\\n",
       "0                                                 1   \n",
       "1                                                 1   \n",
       "2                                                 1   \n",
       "3                                                 2   \n",
       "4                                                 3   \n",
       "\n",
       "   How would you rate you academic performance 👩‍🎓?  \\\n",
       "0                                                 3   \n",
       "1                                                 2   \n",
       "2                                                 2   \n",
       "3                                                 3   \n",
       "4                                                 1   \n",
       "\n",
       "   how would you rate your study load?  \\\n",
       "0                                    4   \n",
       "1                                    3   \n",
       "2                                    1   \n",
       "3                                    2   \n",
       "4                                    5   \n",
       "\n",
       "   How many times a week you practice extracurricular activities 🎾?  \\\n",
       "0                                                  2                  \n",
       "1                                                  3                  \n",
       "2                                                  4                  \n",
       "3                                                  3                  \n",
       "4                                                  5                  \n",
       "\n",
       "   How would you rate your stress levels?  \n",
       "0                                       3  \n",
       "1                                       2  \n",
       "2                                       4  \n",
       "3                                       3  \n",
       "4                                       3  "
      ]
     },
     "execution_count": 11,
     "metadata": {},
     "output_type": "execute_result"
    }
   ],
   "source": [
    "df2.head()"
   ]
  },
  {
   "cell_type": "code",
   "execution_count": null,
   "id": "d4a13170",
   "metadata": {},
   "outputs": [],
   "source": []
  }
 ],
 "metadata": {
  "kernelspec": {
   "display_name": "Python 3 (ipykernel)",
   "language": "python",
   "name": "python3"
  },
  "language_info": {
   "codemirror_mode": {
    "name": "ipython",
    "version": 3
   },
   "file_extension": ".py",
   "mimetype": "text/x-python",
   "name": "python",
   "nbconvert_exporter": "python",
   "pygments_lexer": "ipython3",
   "version": "3.9.13"
  }
 },
 "nbformat": 4,
 "nbformat_minor": 5
}
